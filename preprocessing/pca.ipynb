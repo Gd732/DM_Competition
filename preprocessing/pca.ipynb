{
 "cells": [
  {
   "cell_type": "code",
   "execution_count": 1,
   "id": "5de06abc-76f6-469e-9d43-f8773be2855f",
   "metadata": {
    "tags": []
   },
   "outputs": [],
   "source": [
    "import pandas as pd\n",
    "from sklearn.decomposition import PCA\n",
    "from sklearn.preprocessing import StandardScaler"
   ]
  },
  {
   "cell_type": "code",
   "execution_count": 2,
   "id": "dc38fe0b-afff-4e7b-929f-88009b29bbf6",
   "metadata": {
    "tags": []
   },
   "outputs": [
    {
     "name": "stderr",
     "output_type": "stream",
     "text": [
      "Intel(R) Extension for Scikit-learn* enabled (https://github.com/intel/scikit-learn-intelex)\n"
     ]
    }
   ],
   "source": [
    "from sklearnex import patch_sklearn, unpatch_sklearn\n",
    "patch_sklearn()"
   ]
  },
  {
   "cell_type": "code",
   "execution_count": 3,
   "id": "d9093ab5-beab-4ed4-a069-0c814f03191b",
   "metadata": {
    "tags": []
   },
   "outputs": [],
   "source": [
    "df = pd.read_csv(\"./grouped_sku_sales_4.csv\")"
   ]
  },
  {
   "cell_type": "code",
   "execution_count": 4,
   "id": "ef0eaff0-e433-4678-9a1b-c2c8374e71da",
   "metadata": {
    "tags": []
   },
   "outputs": [],
   "source": [
    "# features = ['salable_status', 'original_price', 'weather_type', 'min_temperature', 'max_temperature']\n",
    "features = ['original_price', 'weather_type', 'min_temperature', 'max_temperature', 'promotion_type', 'threshold', 'discount_off', \n",
    "           'curr_day_ratio']\n",
    "scaler = StandardScaler()\n",
    "df[features] = scaler.fit_transform(df[features])"
   ]
  },
  {
   "cell_type": "code",
   "execution_count": 11,
   "id": "2f39f393-20b3-45f1-b654-b871c451be66",
   "metadata": {
    "tags": []
   },
   "outputs": [
    {
     "data": {
      "text/html": [
       "<div>\n",
       "<style scoped>\n",
       "    .dataframe tbody tr th:only-of-type {\n",
       "        vertical-align: middle;\n",
       "    }\n",
       "\n",
       "    .dataframe tbody tr th {\n",
       "        vertical-align: top;\n",
       "    }\n",
       "\n",
       "    .dataframe thead th {\n",
       "        text-align: right;\n",
       "    }\n",
       "</style>\n",
       "<table border=\"1\" class=\"dataframe\">\n",
       "  <thead>\n",
       "    <tr style=\"text-align: right;\">\n",
       "      <th></th>\n",
       "      <th>date</th>\n",
       "      <th>store_id</th>\n",
       "      <th>sku_id</th>\n",
       "      <th>channel</th>\n",
       "      <th>salable_status</th>\n",
       "      <th>original_price</th>\n",
       "      <th>weather_type</th>\n",
       "      <th>min_temperature</th>\n",
       "      <th>max_temperature</th>\n",
       "      <th>promotion_type</th>\n",
       "      <th>threshold</th>\n",
       "      <th>discount_off</th>\n",
       "      <th>curr_day_ratio</th>\n",
       "      <th>quantity</th>\n",
       "    </tr>\n",
       "  </thead>\n",
       "  <tbody>\n",
       "    <tr>\n",
       "      <th>0</th>\n",
       "      <td>2021-08-31</td>\n",
       "      <td>1</td>\n",
       "      <td>2</td>\n",
       "      <td>1</td>\n",
       "      <td>1.0</td>\n",
       "      <td>-0.261558</td>\n",
       "      <td>-0.153014</td>\n",
       "      <td>0.832845</td>\n",
       "      <td>0.700024</td>\n",
       "      <td>-0.626760</td>\n",
       "      <td>-0.545751</td>\n",
       "      <td>-0.626759</td>\n",
       "      <td>-0.593328</td>\n",
       "      <td>5.0</td>\n",
       "    </tr>\n",
       "    <tr>\n",
       "      <th>1</th>\n",
       "      <td>2021-08-31</td>\n",
       "      <td>1</td>\n",
       "      <td>2</td>\n",
       "      <td>2</td>\n",
       "      <td>1.0</td>\n",
       "      <td>-0.261558</td>\n",
       "      <td>-0.153014</td>\n",
       "      <td>0.832845</td>\n",
       "      <td>0.700024</td>\n",
       "      <td>-0.626760</td>\n",
       "      <td>-0.545751</td>\n",
       "      <td>-0.626759</td>\n",
       "      <td>-0.593328</td>\n",
       "      <td>1.0</td>\n",
       "    </tr>\n",
       "    <tr>\n",
       "      <th>2</th>\n",
       "      <td>2021-08-31</td>\n",
       "      <td>1</td>\n",
       "      <td>3</td>\n",
       "      <td>1</td>\n",
       "      <td>1.0</td>\n",
       "      <td>-0.356545</td>\n",
       "      <td>-0.153014</td>\n",
       "      <td>0.832845</td>\n",
       "      <td>0.700024</td>\n",
       "      <td>-0.626760</td>\n",
       "      <td>-0.545751</td>\n",
       "      <td>-0.626759</td>\n",
       "      <td>-0.593328</td>\n",
       "      <td>8.0</td>\n",
       "    </tr>\n",
       "    <tr>\n",
       "      <th>3</th>\n",
       "      <td>2021-08-31</td>\n",
       "      <td>1</td>\n",
       "      <td>3</td>\n",
       "      <td>2</td>\n",
       "      <td>1.0</td>\n",
       "      <td>-0.356545</td>\n",
       "      <td>-0.153014</td>\n",
       "      <td>0.832845</td>\n",
       "      <td>0.700024</td>\n",
       "      <td>-0.626760</td>\n",
       "      <td>-0.545751</td>\n",
       "      <td>-0.626759</td>\n",
       "      <td>-0.593328</td>\n",
       "      <td>2.0</td>\n",
       "    </tr>\n",
       "    <tr>\n",
       "      <th>4</th>\n",
       "      <td>2021-08-31</td>\n",
       "      <td>1</td>\n",
       "      <td>5</td>\n",
       "      <td>1</td>\n",
       "      <td>1.0</td>\n",
       "      <td>-0.912903</td>\n",
       "      <td>-0.153014</td>\n",
       "      <td>0.832845</td>\n",
       "      <td>0.700024</td>\n",
       "      <td>1.799119</td>\n",
       "      <td>0.526168</td>\n",
       "      <td>0.532944</td>\n",
       "      <td>0.495613</td>\n",
       "      <td>31.0</td>\n",
       "    </tr>\n",
       "    <tr>\n",
       "      <th>...</th>\n",
       "      <td>...</td>\n",
       "      <td>...</td>\n",
       "      <td>...</td>\n",
       "      <td>...</td>\n",
       "      <td>...</td>\n",
       "      <td>...</td>\n",
       "      <td>...</td>\n",
       "      <td>...</td>\n",
       "      <td>...</td>\n",
       "      <td>...</td>\n",
       "      <td>...</td>\n",
       "      <td>...</td>\n",
       "      <td>...</td>\n",
       "      <td>...</td>\n",
       "    </tr>\n",
       "    <tr>\n",
       "      <th>4184656</th>\n",
       "      <td>2023-08-31</td>\n",
       "      <td>12</td>\n",
       "      <td>997</td>\n",
       "      <td>1</td>\n",
       "      <td>1.0</td>\n",
       "      <td>0.023406</td>\n",
       "      <td>-0.296272</td>\n",
       "      <td>0.735575</td>\n",
       "      <td>0.605171</td>\n",
       "      <td>-0.626760</td>\n",
       "      <td>-0.545751</td>\n",
       "      <td>-0.626759</td>\n",
       "      <td>-0.593328</td>\n",
       "      <td>2.0</td>\n",
       "    </tr>\n",
       "    <tr>\n",
       "      <th>4184657</th>\n",
       "      <td>2023-08-31</td>\n",
       "      <td>12</td>\n",
       "      <td>999</td>\n",
       "      <td>1</td>\n",
       "      <td>1.0</td>\n",
       "      <td>-0.234418</td>\n",
       "      <td>-0.296272</td>\n",
       "      <td>0.735575</td>\n",
       "      <td>0.605171</td>\n",
       "      <td>-0.626760</td>\n",
       "      <td>-0.545751</td>\n",
       "      <td>-0.626759</td>\n",
       "      <td>-0.593328</td>\n",
       "      <td>2.0</td>\n",
       "    </tr>\n",
       "    <tr>\n",
       "      <th>4184658</th>\n",
       "      <td>2023-08-31</td>\n",
       "      <td>12</td>\n",
       "      <td>999</td>\n",
       "      <td>2</td>\n",
       "      <td>1.0</td>\n",
       "      <td>-0.234418</td>\n",
       "      <td>-0.296272</td>\n",
       "      <td>0.735575</td>\n",
       "      <td>0.605171</td>\n",
       "      <td>-0.626760</td>\n",
       "      <td>-0.545751</td>\n",
       "      <td>-0.626759</td>\n",
       "      <td>-0.593328</td>\n",
       "      <td>2.0</td>\n",
       "    </tr>\n",
       "    <tr>\n",
       "      <th>4184659</th>\n",
       "      <td>2023-08-31</td>\n",
       "      <td>12</td>\n",
       "      <td>1000</td>\n",
       "      <td>1</td>\n",
       "      <td>1.0</td>\n",
       "      <td>1.027563</td>\n",
       "      <td>-0.296272</td>\n",
       "      <td>0.735575</td>\n",
       "      <td>0.605171</td>\n",
       "      <td>-0.626760</td>\n",
       "      <td>-0.545751</td>\n",
       "      <td>-0.626759</td>\n",
       "      <td>-0.593328</td>\n",
       "      <td>1.0</td>\n",
       "    </tr>\n",
       "    <tr>\n",
       "      <th>4184660</th>\n",
       "      <td>2023-08-31</td>\n",
       "      <td>12</td>\n",
       "      <td>1000</td>\n",
       "      <td>2</td>\n",
       "      <td>1.0</td>\n",
       "      <td>1.027563</td>\n",
       "      <td>-0.296272</td>\n",
       "      <td>0.735575</td>\n",
       "      <td>0.605171</td>\n",
       "      <td>-0.626760</td>\n",
       "      <td>-0.545751</td>\n",
       "      <td>-0.626759</td>\n",
       "      <td>-0.593328</td>\n",
       "      <td>2.0</td>\n",
       "    </tr>\n",
       "  </tbody>\n",
       "</table>\n",
       "<p>4184661 rows × 14 columns</p>\n",
       "</div>"
      ],
      "text/plain": [
       "               date  store_id  sku_id  channel  salable_status  \\\n",
       "0        2021-08-31         1       2        1             1.0   \n",
       "1        2021-08-31         1       2        2             1.0   \n",
       "2        2021-08-31         1       3        1             1.0   \n",
       "3        2021-08-31         1       3        2             1.0   \n",
       "4        2021-08-31         1       5        1             1.0   \n",
       "...             ...       ...     ...      ...             ...   \n",
       "4184656  2023-08-31        12     997        1             1.0   \n",
       "4184657  2023-08-31        12     999        1             1.0   \n",
       "4184658  2023-08-31        12     999        2             1.0   \n",
       "4184659  2023-08-31        12    1000        1             1.0   \n",
       "4184660  2023-08-31        12    1000        2             1.0   \n",
       "\n",
       "         original_price  weather_type  min_temperature  max_temperature  \\\n",
       "0             -0.261558     -0.153014         0.832845         0.700024   \n",
       "1             -0.261558     -0.153014         0.832845         0.700024   \n",
       "2             -0.356545     -0.153014         0.832845         0.700024   \n",
       "3             -0.356545     -0.153014         0.832845         0.700024   \n",
       "4             -0.912903     -0.153014         0.832845         0.700024   \n",
       "...                 ...           ...              ...              ...   \n",
       "4184656        0.023406     -0.296272         0.735575         0.605171   \n",
       "4184657       -0.234418     -0.296272         0.735575         0.605171   \n",
       "4184658       -0.234418     -0.296272         0.735575         0.605171   \n",
       "4184659        1.027563     -0.296272         0.735575         0.605171   \n",
       "4184660        1.027563     -0.296272         0.735575         0.605171   \n",
       "\n",
       "         promotion_type  threshold  discount_off  curr_day_ratio  quantity  \n",
       "0             -0.626760  -0.545751     -0.626759       -0.593328       5.0  \n",
       "1             -0.626760  -0.545751     -0.626759       -0.593328       1.0  \n",
       "2             -0.626760  -0.545751     -0.626759       -0.593328       8.0  \n",
       "3             -0.626760  -0.545751     -0.626759       -0.593328       2.0  \n",
       "4              1.799119   0.526168      0.532944        0.495613      31.0  \n",
       "...                 ...        ...           ...             ...       ...  \n",
       "4184656       -0.626760  -0.545751     -0.626759       -0.593328       2.0  \n",
       "4184657       -0.626760  -0.545751     -0.626759       -0.593328       2.0  \n",
       "4184658       -0.626760  -0.545751     -0.626759       -0.593328       2.0  \n",
       "4184659       -0.626760  -0.545751     -0.626759       -0.593328       1.0  \n",
       "4184660       -0.626760  -0.545751     -0.626759       -0.593328       2.0  \n",
       "\n",
       "[4184661 rows x 14 columns]"
      ]
     },
     "execution_count": 11,
     "metadata": {},
     "output_type": "execute_result"
    }
   ],
   "source": [
    "df"
   ]
  },
  {
   "cell_type": "code",
   "execution_count": 6,
   "id": "203aaebc-7601-4a7d-8726-129624f454d2",
   "metadata": {
    "tags": []
   },
   "outputs": [],
   "source": [
    "pca = PCA()\n",
    "pca.fit(df[features])\n",
    "explained_variance_ratio = pca.explained_variance_ratio_"
   ]
  },
  {
   "cell_type": "code",
   "execution_count": 7,
   "id": "ff21c0bf-b1dc-4803-b73c-ba2715c4fb6c",
   "metadata": {
    "tags": []
   },
   "outputs": [
    {
     "data": {
      "image/png": "[encoded data removed]",
      "text/plain": [
       "<Figure size 640x480 with 1 Axes>"
      ]
     },
     "metadata": {},
     "output_type": "display_data"
    }
   ],
   "source": [
    "import matplotlib.pyplot as plt\n",
    "\n",
    "plt.plot(range(1, len(explained_variance_ratio) + 1), explained_variance_ratio.cumsum(), marker='o', linestyle='--')\n",
    "plt.grid()\n",
    "plt.show()"
   ]
  },
  {
   "cell_type": "code",
   "execution_count": 8,
   "id": "19c8f5e5-51ab-4a34-b175-07f028f7320c",
   "metadata": {
    "tags": []
   },
   "outputs": [],
   "source": [
    "# 选择要保留的主成分数量\n",
    "n_components_to_keep = 5\n",
    "\n",
    "# 创建新的PCA模型并降维\n",
    "pca = PCA(n_components=n_components_to_keep)\n",
    "reduced_data = pca.fit_transform(df[features])\n",
    "# reduced_data可以直接作为新的数据集"
   ]
  },
  {
   "cell_type": "code",
   "execution_count": 9,
   "id": "2dae5736-fada-4396-b3de-69ec1aab2587",
   "metadata": {
    "tags": []
   },
   "outputs": [
    {
     "data": {
      "text/plain": [
       "array([[ 6.15083397e-02,  3.96624094e-03,  3.68051906e-02,\n",
       "         3.75233420e-02,  5.10258639e-01,  4.58087262e-01,\n",
       "         5.25197819e-01,  4.97390996e-01],\n",
       "       [-1.62052466e-02,  8.52353225e-02,  7.04852856e-01,\n",
       "         7.02093782e-01, -3.07307112e-02, -2.44404524e-02,\n",
       "        -2.65941639e-02, -2.16827150e-02],\n",
       "       [ 9.81067314e-01, -1.06408720e-02,  9.34576982e-03,\n",
       "         1.05096450e-02,  7.79679962e-02, -1.73838510e-01,\n",
       "        -1.69839286e-02, -2.46700513e-02],\n",
       "       [ 1.17097394e-02,  9.95281043e-01, -2.85987658e-02,\n",
       "        -9.18191388e-02,  2.64053722e-03, -2.59582674e-04,\n",
       "         1.60215290e-03, -4.50293575e-03],\n",
       "       [ 1.76605985e-01, -8.31923979e-04, -1.16669347e-03,\n",
       "         3.96706688e-03, -4.19198359e-01,  8.51864674e-01,\n",
       "        -2.00836293e-01, -1.64489000e-01]])"
      ]
     },
     "execution_count": 9,
     "metadata": {},
     "output_type": "execute_result"
    }
   ],
   "source": [
    "pca.components_"
   ]
  },
  {
   "cell_type": "code",
   "execution_count": 10,
   "id": "a7ef211e-7418-4b7c-85ae-25bbe7d976f9",
   "metadata": {
    "tags": []
   },
   "outputs": [],
   "source": [
    "column_names = ['x1', 'x2', 'x3', 'x4', 'x5']\n",
    "out = pd.DataFrame(reduced_data, columns=column_names)"
   ]
  },
  {
   "cell_type": "code",
   "execution_count": 12,
   "id": "e3b7e353-54e9-409c-87a4-ea44f2d43739",
   "metadata": {
    "tags": []
   },
   "outputs": [],
   "source": [
    "out['quantity'] = df['quantity']\n",
    "out[['date', 'store_id', 'sku_id', 'channel']] = df[['date', 'store_id', 'sku_id', 'channel']]\n",
    "out = out[['date', 'store_id', 'sku_id', 'channel', 'x1', 'x2', 'x3', 'x4', 'x5', 'quantity']]"
   ]
  },
  {
   "cell_type": "code",
   "execution_count": 14,
   "id": "2643dfbb-4d2b-405b-9a60-94502021e4cd",
   "metadata": {
    "tags": []
   },
   "outputs": [],
   "source": [
    "out.to_csv(\"grouped_sku_sales_PCAed.csv\", index = False)"
   ]
  }
 ],
 "metadata": {
  "kernelspec": {
   "display_name": "Python 3 (ipykernel)",
   "language": "python",
   "name": "python3"
  },
  "language_info": {
   "codemirror_mode": {
    "name": "ipython",
    "version": 3
   },
   "file_extension": ".py",
   "mimetype": "text/x-python",
   "name": "python",
   "nbconvert_exporter": "python",
   "pygments_lexer": "ipython3",
   "version": "3.8.18"
  }
 },
 "nbformat": 4,
 "nbformat_minor": 5
}
