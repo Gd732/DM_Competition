{
 "cells": [
  {
   "cell_type": "code",
   "execution_count": 1,
   "metadata": {},
   "outputs": [],
   "source": [
    "import pandas as pd\n",
    "sku_sales = pd.read_csv(\"../data/sku_sales.csv\")"
   ]
  },
  {
   "cell_type": "code",
   "execution_count": 2,
   "metadata": {},
   "outputs": [],
   "source": [
    "sku_sales['order_time'] = pd.to_datetime(sku_sales['order_time']).dt.date"
   ]
  },
  {
   "cell_type": "code",
   "execution_count": 3,
   "metadata": {},
   "outputs": [],
   "source": [
    "grouped_sku_sales = sku_sales.groupby(['order_time', 'store_id', 'sku_id', 'channel'])['quantity'].sum().reset_index()"
   ]
  },
  {
   "cell_type": "code",
   "execution_count": 4,
   "metadata": {},
   "outputs": [],
   "source": [
    "grouped_sku_sales = grouped_sku_sales.rename(columns={'order_time':'date'})\n",
    "grouped_sku_sales.to_csv('grouped_sku_sales_1.csv', index = False)"
   ]
  },
  {
   "cell_type": "code",
   "execution_count": 4,
   "metadata": {},
   "outputs": [],
   "source": [
    "import pandas as pd\n",
    "\n",
    "grouped_sku_sales = pd.read_csv(\"./grouped_sku_sales_1.csv\")"
   ]
  },
  {
   "cell_type": "code",
   "execution_count": 5,
   "metadata": {},
   "outputs": [],
   "source": [
    "sku_price_and_status = pd.read_csv(\"../data/sku_price_and_status.csv\")"
   ]
  },
  {
   "cell_type": "code",
   "execution_count": 6,
   "metadata": {},
   "outputs": [],
   "source": [
    "merged_group_sku_sales = pd.merge(grouped_sku_sales, \n",
    "                                  sku_price_and_status[['date', 'store_id', 'sku_id', 'salable_status', 'original_price']], \n",
    "                                  on=['date', 'store_id', 'sku_id'], how='left')"
   ]
  },
  {
   "cell_type": "code",
   "execution_count": 7,
   "metadata": {},
   "outputs": [],
   "source": [
    "merged_group_sku_sales.to_csv('grouped_sku_sales_2.csv', index = False)"
   ]
  },
  {
   "cell_type": "code",
   "execution_count": 5,
   "metadata": {},
   "outputs": [],
   "source": [
    "import pandas as pd\n",
    "grouped_sku_sales = pd.read_csv(\"./grouped_sku_sales_1.csv\")\n",
    "sku_price_and_status = pd.read_csv(\"../data/sku_price_and_status.csv\")\n",
    "merged_group_sku_sales = pd.merge(grouped_sku_sales, \n",
    "                                  sku_price_and_status[['date', 'store_id', 'sku_id', 'salable_status', 'original_price']], \n",
    "                                  on=['date', 'store_id', 'sku_id'], how='left')"
   ]
  },
  {
   "cell_type": "code",
   "execution_count": 6,
   "metadata": {},
   "outputs": [],
   "source": [
    "merged_group_sku_sales.to_csv('grouped_sku_sales_2.csv', index = False)"
   ]
  },
  {
   "cell_type": "code",
   "execution_count": 4,
   "metadata": {},
   "outputs": [],
   "source": [
    "import pandas as pd\n",
    "sku_sales2 = pd.read_csv(\"./grouped_sku_sales_2.csv\")\n",
    "store_weather = pd.read_csv(\"../data/store_weather.csv\")"
   ]
  },
  {
   "cell_type": "code",
   "execution_count": 2,
   "metadata": {},
   "outputs": [],
   "source": [
    "merged_group_sku_sales = pd.merge(sku_sales2, \n",
    "                                  store_weather, \n",
    "                                  on=['date', 'store_id'], how='left')"
   ]
  },
  {
   "cell_type": "code",
   "execution_count": 5,
   "metadata": {},
   "outputs": [],
   "source": [
    "import pandas as pd\n",
    "merged_group_sku_sales = pd.read_csv('grouped_sku_sales_2.csv')\n",
    "merged_group_sku_sales = pd.merge(sku_sales2, \n",
    "                                  store_weather, \n",
    "                                  on=['date', 'store_id'], how='left')\n",
    "quantity_col = merged_group_sku_sales.pop('quantity')\n",
    "merged_group_sku_sales['quantity'] = quantity_col\n",
    "merged_group_sku_sales.to_csv('grouped_sku_sales_3.csv', index = False)"
   ]
  },
  {
   "cell_type": "code",
   "execution_count": 2,
   "metadata": {
    "tags": []
   },
   "outputs": [],
   "source": [
    "import pandas as pd\n",
    "sku_sales3 = pd.read_csv(\"./data/grouped_sku_sales_3.csv\")\n",
    "sku_prom = pd.read_csv(\"./data/sku_prom.csv\")"
   ]
  },
  {
   "cell_type": "code",
   "execution_count": 14,
   "metadata": {
    "tags": []
   },
   "outputs": [],
   "source": [
    "merged_group_sku_sales = pd.merge(sku_sales3, \n",
    "                                  sku_prom, \n",
    "                                  on=[ 'store_id', 'sku_id', 'date','channel', ], how='left')"
   ]
  },
  {
   "cell_type": "code",
   "execution_count": 15,
   "metadata": {
    "tags": []
   },
   "outputs": [],
   "source": [
    "merged_group_sku_sales['curr_day_ratio'] = merged_group_sku_sales['curr_day']/merged_group_sku_sales['total_days']\n",
    "merged_group_sku_sales.drop(columns = ['promotion_id', 'curr_day', 'total_days'], inplace = True)\n",
    "merged_group_sku_sales.fillna(0, inplace = True)"
   ]
  },
  {
   "cell_type": "code",
   "execution_count": 18,
   "metadata": {
    "tags": []
   },
   "outputs": [],
   "source": [
    "merged_group_sku_sales = merged_group_sku_sales[['date', 'store_id', 'sku_id', 'channel', 'salable_status', 'original_price', \n",
    "                                               'weather_type', 'min_temperature', 'max_temperature',  'promotion_type', \n",
    "                                               'threshold', 'discount_off', 'curr_day_ratio', 'quantity',]]"
   ]
  },
  {
   "cell_type": "code",
   "execution_count": 20,
   "metadata": {
    "tags": []
   },
   "outputs": [],
   "source": [
    "merged_group_sku_sales.to_csv(\"grouped_sku_sales_4.csv\", index = False)"
   ]
  },
  {
   "cell_type": "code",
   "execution_count": 21,
   "metadata": {
    "tags": []
   },
   "outputs": [
    {
     "data": {
      "text/html": [
       "<div>\n",
       "<style scoped>\n",
       "    .dataframe tbody tr th:only-of-type {\n",
       "        vertical-align: middle;\n",
       "    }\n",
       "\n",
       "    .dataframe tbody tr th {\n",
       "        vertical-align: top;\n",
       "    }\n",
       "\n",
       "    .dataframe thead th {\n",
       "        text-align: right;\n",
       "    }\n",
       "</style>\n",
       "<table border=\"1\" class=\"dataframe\">\n",
       "  <thead>\n",
       "    <tr style=\"text-align: right;\">\n",
       "      <th></th>\n",
       "      <th>date</th>\n",
       "      <th>store_id</th>\n",
       "      <th>sku_id</th>\n",
       "      <th>channel</th>\n",
       "      <th>salable_status</th>\n",
       "      <th>original_price</th>\n",
       "      <th>weather_type</th>\n",
       "      <th>min_temperature</th>\n",
       "      <th>max_temperature</th>\n",
       "      <th>promotion_type</th>\n",
       "      <th>threshold</th>\n",
       "      <th>discount_off</th>\n",
       "      <th>curr_day_ratio</th>\n",
       "      <th>quantity</th>\n",
       "    </tr>\n",
       "  </thead>\n",
       "  <tbody>\n",
       "    <tr>\n",
       "      <th>0</th>\n",
       "      <td>2021-08-31</td>\n",
       "      <td>1</td>\n",
       "      <td>2</td>\n",
       "      <td>1</td>\n",
       "      <td>1.0</td>\n",
       "      <td>17.88</td>\n",
       "      <td>1</td>\n",
       "      <td>0.62</td>\n",
       "      <td>0.78</td>\n",
       "      <td>0.0</td>\n",
       "      <td>0.0</td>\n",
       "      <td>0.00</td>\n",
       "      <td>0.000000</td>\n",
       "      <td>5.0</td>\n",
       "    </tr>\n",
       "    <tr>\n",
       "      <th>1</th>\n",
       "      <td>2021-08-31</td>\n",
       "      <td>1</td>\n",
       "      <td>2</td>\n",
       "      <td>2</td>\n",
       "      <td>1.0</td>\n",
       "      <td>17.88</td>\n",
       "      <td>1</td>\n",
       "      <td>0.62</td>\n",
       "      <td>0.78</td>\n",
       "      <td>0.0</td>\n",
       "      <td>0.0</td>\n",
       "      <td>0.00</td>\n",
       "      <td>0.000000</td>\n",
       "      <td>1.0</td>\n",
       "    </tr>\n",
       "    <tr>\n",
       "      <th>2</th>\n",
       "      <td>2021-08-31</td>\n",
       "      <td>1</td>\n",
       "      <td>3</td>\n",
       "      <td>1</td>\n",
       "      <td>1.0</td>\n",
       "      <td>17.18</td>\n",
       "      <td>1</td>\n",
       "      <td>0.62</td>\n",
       "      <td>0.78</td>\n",
       "      <td>0.0</td>\n",
       "      <td>0.0</td>\n",
       "      <td>0.00</td>\n",
       "      <td>0.000000</td>\n",
       "      <td>8.0</td>\n",
       "    </tr>\n",
       "    <tr>\n",
       "      <th>3</th>\n",
       "      <td>2021-08-31</td>\n",
       "      <td>1</td>\n",
       "      <td>3</td>\n",
       "      <td>2</td>\n",
       "      <td>1.0</td>\n",
       "      <td>17.18</td>\n",
       "      <td>1</td>\n",
       "      <td>0.62</td>\n",
       "      <td>0.78</td>\n",
       "      <td>0.0</td>\n",
       "      <td>0.0</td>\n",
       "      <td>0.00</td>\n",
       "      <td>0.000000</td>\n",
       "      <td>2.0</td>\n",
       "    </tr>\n",
       "    <tr>\n",
       "      <th>4</th>\n",
       "      <td>2021-08-31</td>\n",
       "      <td>1</td>\n",
       "      <td>5</td>\n",
       "      <td>1</td>\n",
       "      <td>1.0</td>\n",
       "      <td>13.08</td>\n",
       "      <td>1</td>\n",
       "      <td>0.62</td>\n",
       "      <td>0.78</td>\n",
       "      <td>5.0</td>\n",
       "      <td>1.0</td>\n",
       "      <td>0.19</td>\n",
       "      <td>0.357143</td>\n",
       "      <td>31.0</td>\n",
       "    </tr>\n",
       "    <tr>\n",
       "      <th>...</th>\n",
       "      <td>...</td>\n",
       "      <td>...</td>\n",
       "      <td>...</td>\n",
       "      <td>...</td>\n",
       "      <td>...</td>\n",
       "      <td>...</td>\n",
       "      <td>...</td>\n",
       "      <td>...</td>\n",
       "      <td>...</td>\n",
       "      <td>...</td>\n",
       "      <td>...</td>\n",
       "      <td>...</td>\n",
       "      <td>...</td>\n",
       "      <td>...</td>\n",
       "    </tr>\n",
       "    <tr>\n",
       "      <th>4184656</th>\n",
       "      <td>2023-08-31</td>\n",
       "      <td>12</td>\n",
       "      <td>997</td>\n",
       "      <td>1</td>\n",
       "      <td>1.0</td>\n",
       "      <td>19.98</td>\n",
       "      <td>0</td>\n",
       "      <td>0.60</td>\n",
       "      <td>0.76</td>\n",
       "      <td>0.0</td>\n",
       "      <td>0.0</td>\n",
       "      <td>0.00</td>\n",
       "      <td>0.000000</td>\n",
       "      <td>2.0</td>\n",
       "    </tr>\n",
       "    <tr>\n",
       "      <th>4184657</th>\n",
       "      <td>2023-08-31</td>\n",
       "      <td>12</td>\n",
       "      <td>999</td>\n",
       "      <td>1</td>\n",
       "      <td>1.0</td>\n",
       "      <td>18.08</td>\n",
       "      <td>0</td>\n",
       "      <td>0.60</td>\n",
       "      <td>0.76</td>\n",
       "      <td>0.0</td>\n",
       "      <td>0.0</td>\n",
       "      <td>0.00</td>\n",
       "      <td>0.000000</td>\n",
       "      <td>2.0</td>\n",
       "    </tr>\n",
       "    <tr>\n",
       "      <th>4184658</th>\n",
       "      <td>2023-08-31</td>\n",
       "      <td>12</td>\n",
       "      <td>999</td>\n",
       "      <td>2</td>\n",
       "      <td>1.0</td>\n",
       "      <td>18.08</td>\n",
       "      <td>0</td>\n",
       "      <td>0.60</td>\n",
       "      <td>0.76</td>\n",
       "      <td>0.0</td>\n",
       "      <td>0.0</td>\n",
       "      <td>0.00</td>\n",
       "      <td>0.000000</td>\n",
       "      <td>2.0</td>\n",
       "    </tr>\n",
       "    <tr>\n",
       "      <th>4184659</th>\n",
       "      <td>2023-08-31</td>\n",
       "      <td>12</td>\n",
       "      <td>1000</td>\n",
       "      <td>1</td>\n",
       "      <td>1.0</td>\n",
       "      <td>27.38</td>\n",
       "      <td>0</td>\n",
       "      <td>0.60</td>\n",
       "      <td>0.76</td>\n",
       "      <td>0.0</td>\n",
       "      <td>0.0</td>\n",
       "      <td>0.00</td>\n",
       "      <td>0.000000</td>\n",
       "      <td>1.0</td>\n",
       "    </tr>\n",
       "    <tr>\n",
       "      <th>4184660</th>\n",
       "      <td>2023-08-31</td>\n",
       "      <td>12</td>\n",
       "      <td>1000</td>\n",
       "      <td>2</td>\n",
       "      <td>1.0</td>\n",
       "      <td>27.38</td>\n",
       "      <td>0</td>\n",
       "      <td>0.60</td>\n",
       "      <td>0.76</td>\n",
       "      <td>0.0</td>\n",
       "      <td>0.0</td>\n",
       "      <td>0.00</td>\n",
       "      <td>0.000000</td>\n",
       "      <td>2.0</td>\n",
       "    </tr>\n",
       "  </tbody>\n",
       "</table>\n",
       "<p>4184661 rows × 14 columns</p>\n",
       "</div>"
      ],
      "text/plain": [
       "               date  store_id  sku_id  channel  salable_status  \\\n",
       "0        2021-08-31         1       2        1             1.0   \n",
       "1        2021-08-31         1       2        2             1.0   \n",
       "2        2021-08-31         1       3        1             1.0   \n",
       "3        2021-08-31         1       3        2             1.0   \n",
       "4        2021-08-31         1       5        1             1.0   \n",
       "...             ...       ...     ...      ...             ...   \n",
       "4184656  2023-08-31        12     997        1             1.0   \n",
       "4184657  2023-08-31        12     999        1             1.0   \n",
       "4184658  2023-08-31        12     999        2             1.0   \n",
       "4184659  2023-08-31        12    1000        1             1.0   \n",
       "4184660  2023-08-31        12    1000        2             1.0   \n",
       "\n",
       "         original_price  weather_type  min_temperature  max_temperature  \\\n",
       "0                 17.88             1             0.62             0.78   \n",
       "1                 17.88             1             0.62             0.78   \n",
       "2                 17.18             1             0.62             0.78   \n",
       "3                 17.18             1             0.62             0.78   \n",
       "4                 13.08             1             0.62             0.78   \n",
       "...                 ...           ...              ...              ...   \n",
       "4184656           19.98             0             0.60             0.76   \n",
       "4184657           18.08             0             0.60             0.76   \n",
       "4184658           18.08             0             0.60             0.76   \n",
       "4184659           27.38             0             0.60             0.76   \n",
       "4184660           27.38             0             0.60             0.76   \n",
       "\n",
       "         promotion_type  threshold  discount_off  curr_day_ratio  quantity  \n",
       "0                   0.0        0.0          0.00        0.000000       5.0  \n",
       "1                   0.0        0.0          0.00        0.000000       1.0  \n",
       "2                   0.0        0.0          0.00        0.000000       8.0  \n",
       "3                   0.0        0.0          0.00        0.000000       2.0  \n",
       "4                   5.0        1.0          0.19        0.357143      31.0  \n",
       "...                 ...        ...           ...             ...       ...  \n",
       "4184656             0.0        0.0          0.00        0.000000       2.0  \n",
       "4184657             0.0        0.0          0.00        0.000000       2.0  \n",
       "4184658             0.0        0.0          0.00        0.000000       2.0  \n",
       "4184659             0.0        0.0          0.00        0.000000       1.0  \n",
       "4184660             0.0        0.0          0.00        0.000000       2.0  \n",
       "\n",
       "[4184661 rows x 14 columns]"
      ]
     },
     "execution_count": 21,
     "metadata": {},
     "output_type": "execute_result"
    }
   ],
   "source": [
    "merged_group_sku_sales"
   ]
  },
  {
   "cell_type": "code",
   "execution_count": null,
   "metadata": {},
   "outputs": [],
   "source": []
  }
 ],
 "metadata": {
  "kernelspec": {
   "display_name": "Python 3 (ipykernel)",
   "language": "python",
   "name": "python3"
  },
  "language_info": {
   "codemirror_mode": {
    "name": "ipython",
    "version": 3
   },
   "file_extension": ".py",
   "mimetype": "text/x-python",
   "name": "python",
   "nbconvert_exporter": "python",
   "pygments_lexer": "ipython3",
   "version": "3.8.13"
  }
 },
 "nbformat": 4,
 "nbformat_minor": 4
}
