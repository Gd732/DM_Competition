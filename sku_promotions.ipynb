{
 "cells": [
  {
   "cell_type": "markdown",
   "metadata": {},
   "source": [
    "### 以下内容得到各订单对应商品的原价及乘以购买数量后的价格\n",
    "输出文件: sku_sales_with_original_amount.csv"
   ]
  },
  {
   "cell_type": "code",
   "execution_count": null,
   "metadata": {},
   "outputs": [],
   "source": [
    "# 读取订单数据及促销数据\n",
    "import pandas as pd\n",
    "sku_sales = pd.read_csv(\"../data/sku_sales.csv\")\n",
    "sku_price_and_status = pd.read_csv(\"../data/sku_price_and_status.csv\")"
   ]
  },
  {
   "cell_type": "code",
   "execution_count": null,
   "metadata": {},
   "outputs": [],
   "source": [
    "# 时间戳格式转换\n",
    "sku_sales = sku_sales.rename(columns={'order_time':'date'})\n",
    "sku_sales['date'] = pd.to_datetime(sku_sales['date']).dt.strftime('%Y-%m-%d')"
   ]
  },
  {
   "cell_type": "code",
   "execution_count": null,
   "metadata": {},
   "outputs": [],
   "source": [
    "# 合并两表，得到各订单对应商品的原价格\n",
    "sku_sales_with_price = pd.merge(sku_sales[['order_id', 'date', 'store_id', 'sku_id', 'quantity', 'channel']], \n",
    "                                  sku_price_and_status[['date', 'store_id', 'sku_id', 'original_price']], \n",
    "                                  on=['date', 'store_id', 'sku_id'], how='left')"
   ]
  },
  {
   "cell_type": "code",
   "execution_count": null,
   "metadata": {},
   "outputs": [],
   "source": [
    "# 各订单对应商品原价格*购买件数=各订单购买商品总价(未计算折扣)\n",
    "sku_sales_with_price['original_amount'] = sku_sales_with_price['quantity'] * sku_sales_with_price['original_price']"
   ]
  },
  {
   "cell_type": "code",
   "execution_count": null,
   "metadata": {},
   "outputs": [],
   "source": [
    "# 排序\n",
    "sku_sales_with_price.sort_values(by=['order_id', 'sku_id', 'channel'], ascending=[True, True, True, True, True], inplace=True)\n",
    "sku_sales_with_price = sku_sales_with_price[['order_id', 'date', 'store_id', 'sku_id', 'channel', 'quantity', 'original_price', 'original_amount']]"
   ]
  },
  {
   "cell_type": "code",
   "execution_count": null,
   "metadata": {},
   "outputs": [],
   "source": [
    "# 输出\n",
    "sku_sales_with_price.to_csv(\"sku_sales_with_original_amount.csv\", index = False)"
   ]
  },
  {
   "cell_type": "markdown",
   "metadata": {},
   "source": [
    "---"
   ]
  },
  {
   "cell_type": "markdown",
   "metadata": {},
   "source": [
    "### 以下内容得到每一笔订单中每一商品促销后的价格(算不动)"
   ]
  },
  {
   "cell_type": "code",
   "execution_count": null,
   "metadata": {},
   "outputs": [],
   "source": [
    "import pandas as pd\n",
    "df1 = pd.read_csv(\"./sku_sales_with_order_amount.csv\")\n",
    "df2 = pd.read_csv(\"./data/sku_prom.csv\")"
   ]
  },
  {
   "cell_type": "code",
   "execution_count": null,
   "metadata": {},
   "outputs": [],
   "source": [
    "# 表3为order_amounts 旨在记录每个订单的总金额，以供后续与threshold比对，计算折扣后金额\n",
    "order_amounts = df1.groupby(['order_id', 'date', 'store_id', 'channel'])['original_amount'].sum().reset_index()"
   ]
  },
  {
   "cell_type": "code",
   "execution_count": null,
   "metadata": {},
   "outputs": [],
   "source": [
    "# 给df1后每一行最后加上当前商品打折后的价格\n",
    "def calculate_discounted_amount(row):\n",
    "    order_id = row['order_id']\n",
    "    date = row['date']\n",
    "    store_id = row['store_id']\n",
    "    channel = row['channel']\n",
    "    order_amount = order_amounts[(order_amounts['order_id'] == order_id) & (order_amounts['date'] == date) & (order_amounts['store_id'] == store_id) & (order_amounts['channel'] == channel)]['original_amount'].values[0]\n",
    "    sku_id = row['sku_id']\n",
    "    promo_info = df2[(df2['store_id'] == store_id) & (df2['sku_id'] == sku_id) & (df2['date'] == date) & (df2['channel'] == channel)]\n",
    "    if not promo_info.empty:\n",
    "        threshold = promo_info['threshold'].values[0]\n",
    "        discount_off = promo_info['discount_off'].values[0]\n",
    "        original_amount = row['original_amount']\n",
    "        if order_amount > threshold * original_amount:\n",
    "            return original_amount * (1 - discount_off)\n",
    "    \n",
    "    return row['original_amount']  # 没有促销信息或不满足条件，原价\n",
    "    \n",
    "df1['discounted_amount'] = df1.apply(calculate_discounted_amount, axis=1)\n",
    "# 然后再对df1作下一步处理？"
   ]
  }
 ],
 "metadata": {
  "kernelspec": {
   "display_name": "mcm",
   "language": "python",
   "name": "python3"
  },
  "language_info": {
   "codemirror_mode": {
    "name": "ipython",
    "version": 3
   },
   "file_extension": ".py",
   "mimetype": "text/x-python",
   "name": "python",
   "nbconvert_exporter": "python",
   "pygments_lexer": "ipython3",
   "version": "3.8.17"
  }
 },
 "nbformat": 4,
 "nbformat_minor": 2
}
