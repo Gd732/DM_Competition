{
 "cells": [
  {
   "cell_type": "markdown",
   "metadata": {},
   "source": [
    "### 这部分将日期相同，门店相同，商品相同，渠道相同的订单进行合并"
   ]
  },
  {
   "cell_type": "code",
   "execution_count": 1,
   "metadata": {},
   "outputs": [],
   "source": [
    "import pandas as pd\n",
    "sku_sales = pd.read_csv(\"../data/sku_sales.csv\")"
   ]
  },
  {
   "cell_type": "code",
   "execution_count": 2,
   "metadata": {},
   "outputs": [],
   "source": [
    "sku_sales['order_time'] = pd.to_datetime(sku_sales['order_time']).dt.date"
   ]
  },
  {
   "cell_type": "code",
   "execution_count": 3,
   "metadata": {},
   "outputs": [],
   "source": [
    "grouped_sku_sales = sku_sales.groupby(['order_time', 'store_id', 'sku_id', 'channel'])['quantity'].sum().reset_index()"
   ]
  },
  {
   "cell_type": "code",
   "execution_count": 4,
   "metadata": {},
   "outputs": [],
   "source": [
    "grouped_sku_sales = grouped_sku_sales.rename(columns={'order_time':'date'})\n",
    "grouped_sku_sales.to_csv('grouped_sku_sales_1.csv', index = False)"
   ]
  },
  {
   "cell_type": "markdown",
   "metadata": {},
   "source": [
    "---\n",
    "### 这部分在表后添加价格信息"
   ]
  },
  {
   "cell_type": "code",
   "execution_count": 4,
   "metadata": {},
   "outputs": [],
   "source": [
    "import pandas as pd\n",
    "grouped_sku_sales = pd.read_csv(\"./grouped_sku_sales_1.csv\")\n",
    "sku_price_and_status = pd.read_csv(\"../data/sku_price_and_status.csv\")"
   ]
  },
  {
   "cell_type": "code",
   "execution_count": 6,
   "metadata": {},
   "outputs": [],
   "source": [
    "merged_group_sku_sales = pd.merge(grouped_sku_sales, \n",
    "                                  sku_price_and_status[['date', 'store_id', 'sku_id', 'salable_status', 'original_price']], \n",
    "                                  on=['date', 'store_id', 'sku_id'], how='left')"
   ]
  },
  {
   "cell_type": "code",
   "execution_count": 5,
   "metadata": {},
   "outputs": [],
   "source": [
    "grouped_sku_sales = pd.read_csv(\"./grouped_sku_sales_1.csv\")\n",
    "sku_price_and_status = pd.read_csv(\"../data/sku_price_and_status.csv\")\n",
    "merged_group_sku_sales = pd.merge(grouped_sku_sales, \n",
    "                                  sku_price_and_status[['date', 'store_id', 'sku_id', 'salable_status', 'original_price']], \n",
    "                                  on=['date', 'store_id', 'sku_id'], how='left')"
   ]
  },
  {
   "cell_type": "code",
   "execution_count": 6,
   "metadata": {},
   "outputs": [],
   "source": [
    "merged_group_sku_sales.to_csv('grouped_sku_sales_2.csv', index = False)"
   ]
  },
  {
   "cell_type": "markdown",
   "metadata": {},
   "source": [
    "---\n",
    "### 这部分在表最后添加天气信息"
   ]
  },
  {
   "cell_type": "code",
   "execution_count": 4,
   "metadata": {},
   "outputs": [],
   "source": [
    "import pandas as pd\n",
    "sku_sales2 = pd.read_csv(\"./grouped_sku_sales_2.csv\")\n",
    "store_weather = pd.read_csv(\"../data/store_weather.csv\")"
   ]
  },
  {
   "cell_type": "code",
   "execution_count": 2,
   "metadata": {},
   "outputs": [],
   "source": [
    "merged_group_sku_sales = pd.merge(sku_sales2, \n",
    "                                  store_weather, \n",
    "                                  on=['date', 'store_id'], how='left')"
   ]
  },
  {
   "cell_type": "code",
   "execution_count": 5,
   "metadata": {},
   "outputs": [],
   "source": [
    "merged_group_sku_sales = pd.read_csv('grouped_sku_sales_2.csv')\n",
    "merged_group_sku_sales = pd.merge(sku_sales2, \n",
    "                                  store_weather, \n",
    "                                  on=['date', 'store_id'], how='left')\n",
    "quantity_col = merged_group_sku_sales.pop('quantity')\n",
    "merged_group_sku_sales['quantity'] = quantity_col\n",
    "merged_group_sku_sales.to_csv('grouped_sku_sales_3.csv', index = False)"
   ]
  },
  {
   "cell_type": "markdown",
   "metadata": {},
   "source": [
    "grouped_sku_sales_3.csv的字段包括date、store_id、sku_id、channel、salable_status、original_price、weather_type、min_temp、max_temp、quantity，未包括threshold及discount"
   ]
  }
 ],
 "metadata": {
  "kernelspec": {
   "display_name": "mcm",
   "language": "python",
   "name": "python3"
  },
  "language_info": {
   "codemirror_mode": {
    "name": "ipython",
    "version": 3
   },
   "file_extension": ".py",
   "mimetype": "text/x-python",
   "name": "python",
   "nbconvert_exporter": "python",
   "pygments_lexer": "ipython3",
   "version": "3.8.17"
  }
 },
 "nbformat": 4,
 "nbformat_minor": 2
}
